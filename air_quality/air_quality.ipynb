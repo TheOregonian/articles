{
 "cells": [
  {
   "cell_type": "code",
   "execution_count": 42,
   "metadata": {},
   "outputs": [],
   "source": [
    "import os\n",
    "import glob\n",
    "import pandas as pd"
   ]
  },
  {
   "cell_type": "markdown",
   "metadata": {},
   "source": [
    "# Computing AQI"
   ]
  },
  {
   "attachments": {
    "equation.gif": {
     "image/gif": "[encoded data removed]"
    }
   },
   "cell_type": "markdown",
   "metadata": {},
   "source": [
    "<img>![equation.gif](attachment:equation.gif)"
   ]
  },
  {
   "cell_type": "markdown",
   "metadata": {},
   "source": [
    "# Measurements at SE Lafayette 8/21/2018"
   ]
  },
  {
   "cell_type": "code",
   "execution_count": 1,
   "metadata": {},
   "outputs": [],
   "source": [
    "pm25 = 66.8 # unhealthy\n",
    "ozone = 35 # good? table only describes 8-hour intervals\n",
    "no2 = 11.7 # good?"
   ]
  },
  {
   "cell_type": "markdown",
   "metadata": {},
   "source": [
    "Using the above equation, then, we get an AQI for 8/21 of 159:"
   ]
  },
  {
   "cell_type": "code",
   "execution_count": 206,
   "metadata": {},
   "outputs": [
    {
     "data": {
      "text/plain": [
       "156.8345626975764"
      ]
     },
     "execution_count": 206,
     "metadata": {},
     "output_type": "execute_result"
    }
   ],
   "source": [
    "(200-151)/(150.4-55.5)*(66.8-55.5)+151"
   ]
  },
  {
   "cell_type": "code",
   "execution_count": 200,
   "metadata": {},
   "outputs": [],
   "source": [
    "df_list = pd.read_html(\n",
    "    'https://en.wikipedia.org/wiki/Air_quality_index', header=0)"
   ]
  },
  {
   "cell_type": "code",
   "execution_count": 202,
   "metadata": {},
   "outputs": [],
   "source": [
    "aqi_df = df_list[14].drop(0)"
   ]
  },
  {
   "cell_type": "code",
   "execution_count": 203,
   "metadata": {},
   "outputs": [
    {
     "data": {
      "text/html": [
       "<div>\n",
       "<style scoped>\n",
       "    .dataframe tbody tr th:only-of-type {\n",
       "        vertical-align: middle;\n",
       "    }\n",
       "\n",
       "    .dataframe tbody tr th {\n",
       "        vertical-align: top;\n",
       "    }\n",
       "\n",
       "    .dataframe thead th {\n",
       "        text-align: right;\n",
       "    }\n",
       "</style>\n",
       "<table border=\"1\" class=\"dataframe\">\n",
       "  <thead>\n",
       "    <tr style=\"text-align: right;\">\n",
       "      <th></th>\n",
       "      <th>O3 (ppb)</th>\n",
       "      <th>O3 (ppb).1</th>\n",
       "      <th>PM2.5 (µg/m3)</th>\n",
       "      <th>PM10 (µg/m3)</th>\n",
       "      <th>CO (ppm)</th>\n",
       "      <th>SO2 (ppb)</th>\n",
       "      <th>NO2 (ppb)</th>\n",
       "      <th>AQI</th>\n",
       "      <th>AQI.1</th>\n",
       "    </tr>\n",
       "  </thead>\n",
       "  <tbody>\n",
       "    <tr>\n",
       "      <th>1</th>\n",
       "      <td>0-54 (8-hr)</td>\n",
       "      <td>-</td>\n",
       "      <td>0.0-12.0 (24-hr)</td>\n",
       "      <td>0-54 (24-hr)</td>\n",
       "      <td>0.0-4.4 (8-hr)</td>\n",
       "      <td>0-35 (1-hr)</td>\n",
       "      <td>0-53 (1-hr)</td>\n",
       "      <td>0-50</td>\n",
       "      <td>Good</td>\n",
       "    </tr>\n",
       "    <tr>\n",
       "      <th>2</th>\n",
       "      <td>55-70 (8-hr)</td>\n",
       "      <td>-</td>\n",
       "      <td>12.1-35.4 (24-hr)</td>\n",
       "      <td>55-154 (24-hr)</td>\n",
       "      <td>4.5-9.4 (8-hr)</td>\n",
       "      <td>36-75 (1-hr)</td>\n",
       "      <td>54-100 (1-hr)</td>\n",
       "      <td>51-100</td>\n",
       "      <td>Moderate</td>\n",
       "    </tr>\n",
       "    <tr>\n",
       "      <th>3</th>\n",
       "      <td>71-85 (8-hr)</td>\n",
       "      <td>125-164 (1-hr)</td>\n",
       "      <td>35.5-55.4 (24-hr)</td>\n",
       "      <td>155-254 (24-hr)</td>\n",
       "      <td>9.5-12.4 (8-hr)</td>\n",
       "      <td>76-185 (1-hr)</td>\n",
       "      <td>101-360 (1-hr)</td>\n",
       "      <td>101-150</td>\n",
       "      <td>Unhealthy for Sensitive Groups</td>\n",
       "    </tr>\n",
       "    <tr>\n",
       "      <th>4</th>\n",
       "      <td>86-105 (8-hr)</td>\n",
       "      <td>165-204 (1-hr)</td>\n",
       "      <td>55.5-150.4 (24-hr)</td>\n",
       "      <td>255-354 (24-hr)</td>\n",
       "      <td>12.5-15.4 (8-hr)</td>\n",
       "      <td>186-304 (1-hr)</td>\n",
       "      <td>361-649 (1-hr)</td>\n",
       "      <td>151-200</td>\n",
       "      <td>Unhealthy</td>\n",
       "    </tr>\n",
       "    <tr>\n",
       "      <th>5</th>\n",
       "      <td>106-200 (8-hr)</td>\n",
       "      <td>205-404 (1-hr)</td>\n",
       "      <td>150.5-250.4 (24-hr)</td>\n",
       "      <td>355-424 (24-hr)</td>\n",
       "      <td>15.5-30.4 (8-hr)</td>\n",
       "      <td>305-604 (24-hr)</td>\n",
       "      <td>650-1249 (1-hr)</td>\n",
       "      <td>201-300</td>\n",
       "      <td>Very Unhealthy</td>\n",
       "    </tr>\n",
       "    <tr>\n",
       "      <th>6</th>\n",
       "      <td>-</td>\n",
       "      <td>405-504 (1-hr)</td>\n",
       "      <td>250.5-350.4 (24-hr)</td>\n",
       "      <td>425-504 (24-hr)</td>\n",
       "      <td>30.5-40.4 (8-hr)</td>\n",
       "      <td>605-804 (24-hr)</td>\n",
       "      <td>1250-1649 (1-hr)</td>\n",
       "      <td>301-400</td>\n",
       "      <td>Hazardous</td>\n",
       "    </tr>\n",
       "    <tr>\n",
       "      <th>7</th>\n",
       "      <td>-</td>\n",
       "      <td>505-604 (1-hr)</td>\n",
       "      <td>350.5-500.4 (24-hr)</td>\n",
       "      <td>505-604 (24-hr)</td>\n",
       "      <td>40.5-50.4 (8-hr)</td>\n",
       "      <td>805-1004 (24-hr)</td>\n",
       "      <td>1650-2049 (1-hr)</td>\n",
       "      <td>401-500</td>\n",
       "      <td>NaN</td>\n",
       "    </tr>\n",
       "  </tbody>\n",
       "</table>\n",
       "</div>"
      ],
      "text/plain": [
       "         O3 (ppb)      O3 (ppb).1        PM2.5 (µg/m3)     PM10 (µg/m3)  \\\n",
       "1     0-54 (8-hr)               -     0.0-12.0 (24-hr)     0-54 (24-hr)   \n",
       "2    55-70 (8-hr)               -    12.1-35.4 (24-hr)   55-154 (24-hr)   \n",
       "3    71-85 (8-hr)  125-164 (1-hr)    35.5-55.4 (24-hr)  155-254 (24-hr)   \n",
       "4   86-105 (8-hr)  165-204 (1-hr)   55.5-150.4 (24-hr)  255-354 (24-hr)   \n",
       "5  106-200 (8-hr)  205-404 (1-hr)  150.5-250.4 (24-hr)  355-424 (24-hr)   \n",
       "6               -  405-504 (1-hr)  250.5-350.4 (24-hr)  425-504 (24-hr)   \n",
       "7               -  505-604 (1-hr)  350.5-500.4 (24-hr)  505-604 (24-hr)   \n",
       "\n",
       "           CO (ppm)         SO2 (ppb)         NO2 (ppb)      AQI  \\\n",
       "1    0.0-4.4 (8-hr)       0-35 (1-hr)       0-53 (1-hr)     0-50   \n",
       "2    4.5-9.4 (8-hr)      36-75 (1-hr)     54-100 (1-hr)   51-100   \n",
       "3   9.5-12.4 (8-hr)     76-185 (1-hr)    101-360 (1-hr)  101-150   \n",
       "4  12.5-15.4 (8-hr)    186-304 (1-hr)    361-649 (1-hr)  151-200   \n",
       "5  15.5-30.4 (8-hr)   305-604 (24-hr)   650-1249 (1-hr)  201-300   \n",
       "6  30.5-40.4 (8-hr)   605-804 (24-hr)  1250-1649 (1-hr)  301-400   \n",
       "7  40.5-50.4 (8-hr)  805-1004 (24-hr)  1650-2049 (1-hr)  401-500   \n",
       "\n",
       "                            AQI.1  \n",
       "1                            Good  \n",
       "2                        Moderate  \n",
       "3  Unhealthy for Sensitive Groups  \n",
       "4                       Unhealthy  \n",
       "5                  Very Unhealthy  \n",
       "6                       Hazardous  \n",
       "7                             NaN  "
      ]
     },
     "execution_count": 203,
     "metadata": {},
     "output_type": "execute_result"
    }
   ],
   "source": [
    "aqi_df"
   ]
  },
  {
   "cell_type": "code",
   "execution_count": 204,
   "metadata": {},
   "outputs": [],
   "source": [
    "aqi_df[['min','max']] = aqi_df['AQI'].str.split('-', 1, expand=True)"
   ]
  },
  {
   "cell_type": "code",
   "execution_count": 205,
   "metadata": {},
   "outputs": [
    {
     "data": {
      "text/html": [
       "<div>\n",
       "<style scoped>\n",
       "    .dataframe tbody tr th:only-of-type {\n",
       "        vertical-align: middle;\n",
       "    }\n",
       "\n",
       "    .dataframe tbody tr th {\n",
       "        vertical-align: top;\n",
       "    }\n",
       "\n",
       "    .dataframe thead th {\n",
       "        text-align: right;\n",
       "    }\n",
       "</style>\n",
       "<table border=\"1\" class=\"dataframe\">\n",
       "  <thead>\n",
       "    <tr style=\"text-align: right;\">\n",
       "      <th></th>\n",
       "      <th>O3 (ppb)</th>\n",
       "      <th>O3 (ppb).1</th>\n",
       "      <th>PM2.5 (µg/m3)</th>\n",
       "      <th>PM10 (µg/m3)</th>\n",
       "      <th>CO (ppm)</th>\n",
       "      <th>SO2 (ppb)</th>\n",
       "      <th>NO2 (ppb)</th>\n",
       "      <th>AQI</th>\n",
       "      <th>AQI.1</th>\n",
       "      <th>min</th>\n",
       "      <th>max</th>\n",
       "    </tr>\n",
       "  </thead>\n",
       "  <tbody>\n",
       "    <tr>\n",
       "      <th>1</th>\n",
       "      <td>0-54 (8-hr)</td>\n",
       "      <td>-</td>\n",
       "      <td>0.0-12.0 (24-hr)</td>\n",
       "      <td>0-54 (24-hr)</td>\n",
       "      <td>0.0-4.4 (8-hr)</td>\n",
       "      <td>0-35 (1-hr)</td>\n",
       "      <td>0-53 (1-hr)</td>\n",
       "      <td>0-50</td>\n",
       "      <td>Good</td>\n",
       "      <td>0</td>\n",
       "      <td>50</td>\n",
       "    </tr>\n",
       "    <tr>\n",
       "      <th>2</th>\n",
       "      <td>55-70 (8-hr)</td>\n",
       "      <td>-</td>\n",
       "      <td>12.1-35.4 (24-hr)</td>\n",
       "      <td>55-154 (24-hr)</td>\n",
       "      <td>4.5-9.4 (8-hr)</td>\n",
       "      <td>36-75 (1-hr)</td>\n",
       "      <td>54-100 (1-hr)</td>\n",
       "      <td>51-100</td>\n",
       "      <td>Moderate</td>\n",
       "      <td>51</td>\n",
       "      <td>100</td>\n",
       "    </tr>\n",
       "    <tr>\n",
       "      <th>3</th>\n",
       "      <td>71-85 (8-hr)</td>\n",
       "      <td>125-164 (1-hr)</td>\n",
       "      <td>35.5-55.4 (24-hr)</td>\n",
       "      <td>155-254 (24-hr)</td>\n",
       "      <td>9.5-12.4 (8-hr)</td>\n",
       "      <td>76-185 (1-hr)</td>\n",
       "      <td>101-360 (1-hr)</td>\n",
       "      <td>101-150</td>\n",
       "      <td>Unhealthy for Sensitive Groups</td>\n",
       "      <td>101</td>\n",
       "      <td>150</td>\n",
       "    </tr>\n",
       "    <tr>\n",
       "      <th>4</th>\n",
       "      <td>86-105 (8-hr)</td>\n",
       "      <td>165-204 (1-hr)</td>\n",
       "      <td>55.5-150.4 (24-hr)</td>\n",
       "      <td>255-354 (24-hr)</td>\n",
       "      <td>12.5-15.4 (8-hr)</td>\n",
       "      <td>186-304 (1-hr)</td>\n",
       "      <td>361-649 (1-hr)</td>\n",
       "      <td>151-200</td>\n",
       "      <td>Unhealthy</td>\n",
       "      <td>151</td>\n",
       "      <td>200</td>\n",
       "    </tr>\n",
       "    <tr>\n",
       "      <th>5</th>\n",
       "      <td>106-200 (8-hr)</td>\n",
       "      <td>205-404 (1-hr)</td>\n",
       "      <td>150.5-250.4 (24-hr)</td>\n",
       "      <td>355-424 (24-hr)</td>\n",
       "      <td>15.5-30.4 (8-hr)</td>\n",
       "      <td>305-604 (24-hr)</td>\n",
       "      <td>650-1249 (1-hr)</td>\n",
       "      <td>201-300</td>\n",
       "      <td>Very Unhealthy</td>\n",
       "      <td>201</td>\n",
       "      <td>300</td>\n",
       "    </tr>\n",
       "    <tr>\n",
       "      <th>6</th>\n",
       "      <td>-</td>\n",
       "      <td>405-504 (1-hr)</td>\n",
       "      <td>250.5-350.4 (24-hr)</td>\n",
       "      <td>425-504 (24-hr)</td>\n",
       "      <td>30.5-40.4 (8-hr)</td>\n",
       "      <td>605-804 (24-hr)</td>\n",
       "      <td>1250-1649 (1-hr)</td>\n",
       "      <td>301-400</td>\n",
       "      <td>Hazardous</td>\n",
       "      <td>301</td>\n",
       "      <td>400</td>\n",
       "    </tr>\n",
       "    <tr>\n",
       "      <th>7</th>\n",
       "      <td>-</td>\n",
       "      <td>505-604 (1-hr)</td>\n",
       "      <td>350.5-500.4 (24-hr)</td>\n",
       "      <td>505-604 (24-hr)</td>\n",
       "      <td>40.5-50.4 (8-hr)</td>\n",
       "      <td>805-1004 (24-hr)</td>\n",
       "      <td>1650-2049 (1-hr)</td>\n",
       "      <td>401-500</td>\n",
       "      <td>NaN</td>\n",
       "      <td>401</td>\n",
       "      <td>500</td>\n",
       "    </tr>\n",
       "  </tbody>\n",
       "</table>\n",
       "</div>"
      ],
      "text/plain": [
       "         O3 (ppb)      O3 (ppb).1        PM2.5 (µg/m3)     PM10 (µg/m3)  \\\n",
       "1     0-54 (8-hr)               -     0.0-12.0 (24-hr)     0-54 (24-hr)   \n",
       "2    55-70 (8-hr)               -    12.1-35.4 (24-hr)   55-154 (24-hr)   \n",
       "3    71-85 (8-hr)  125-164 (1-hr)    35.5-55.4 (24-hr)  155-254 (24-hr)   \n",
       "4   86-105 (8-hr)  165-204 (1-hr)   55.5-150.4 (24-hr)  255-354 (24-hr)   \n",
       "5  106-200 (8-hr)  205-404 (1-hr)  150.5-250.4 (24-hr)  355-424 (24-hr)   \n",
       "6               -  405-504 (1-hr)  250.5-350.4 (24-hr)  425-504 (24-hr)   \n",
       "7               -  505-604 (1-hr)  350.5-500.4 (24-hr)  505-604 (24-hr)   \n",
       "\n",
       "           CO (ppm)         SO2 (ppb)         NO2 (ppb)      AQI  \\\n",
       "1    0.0-4.4 (8-hr)       0-35 (1-hr)       0-53 (1-hr)     0-50   \n",
       "2    4.5-9.4 (8-hr)      36-75 (1-hr)     54-100 (1-hr)   51-100   \n",
       "3   9.5-12.4 (8-hr)     76-185 (1-hr)    101-360 (1-hr)  101-150   \n",
       "4  12.5-15.4 (8-hr)    186-304 (1-hr)    361-649 (1-hr)  151-200   \n",
       "5  15.5-30.4 (8-hr)   305-604 (24-hr)   650-1249 (1-hr)  201-300   \n",
       "6  30.5-40.4 (8-hr)   605-804 (24-hr)  1250-1649 (1-hr)  301-400   \n",
       "7  40.5-50.4 (8-hr)  805-1004 (24-hr)  1650-2049 (1-hr)  401-500   \n",
       "\n",
       "                            AQI.1  min  max  \n",
       "1                            Good    0   50  \n",
       "2                        Moderate   51  100  \n",
       "3  Unhealthy for Sensitive Groups  101  150  \n",
       "4                       Unhealthy  151  200  \n",
       "5                  Very Unhealthy  201  300  \n",
       "6                       Hazardous  301  400  \n",
       "7                             NaN  401  500  "
      ]
     },
     "execution_count": 205,
     "metadata": {},
     "output_type": "execute_result"
    }
   ],
   "source": [
    "aqi_df"
   ]
  },
  {
   "cell_type": "markdown",
   "metadata": {},
   "source": [
    "> Oregon’s index is based on three pollutants regulated by the federal Clean Air Act: ground-level ozone, particle pollution and nitrogen dioxide.<sup>2</sup>"
   ]
  },
  {
   "cell_type": "markdown",
   "metadata": {},
   "source": [
    "Ozone: O<sub>3</sub> (ppb)\n",
    "\n",
    "Particle pollution: PM<sub>2.5</sub> (µg/m<sup>3</sup>)\n",
    "\n",
    "Nitrogen dioxide: NO<sub>2</sub> (ppb)"
   ]
  },
  {
   "cell_type": "markdown",
   "metadata": {},
   "source": [
    "# References\n",
    "\n",
    "<sup>1</sup> https://en.wikipedia.org/wiki/Air_quality_index#Computing_the_AQI\n",
    "\n",
    "<sup>2</sup> https://web.archive.org/web/20180822170335/https://www.oregon.gov/deq/aq/Pages/aqi.aspx"
   ]
  },
  {
   "cell_type": "code",
   "execution_count": null,
   "metadata": {},
   "outputs": [],
   "source": []
  }
 ],
 "metadata": {
  "kernelspec": {
   "display_name": "Python 3",
   "language": "python",
   "name": "python3"
  },
  "language_info": {
   "codemirror_mode": {
    "name": "ipython",
    "version": 3
   },
   "file_extension": ".py",
   "mimetype": "text/x-python",
   "name": "python",
   "nbconvert_exporter": "python",
   "pygments_lexer": "ipython3",
   "version": "3.5.2"
  }
 },
 "nbformat": 4,
 "nbformat_minor": 2
}
